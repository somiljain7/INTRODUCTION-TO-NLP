{
 "cells": [
  {
   "cell_type": "code",
   "execution_count": 2,
   "metadata": {},
   "outputs": [],
   "source": [
    "from nltk.tokenize import sent_tokenize , word_tokenize"
   ]
  },
  {
   "cell_type": "code",
   "execution_count": 3,
   "metadata": {},
   "outputs": [
    {
     "name": "stdout",
     "output_type": "stream",
     "text": [
      "['hello dude , i am somil jain']\n"
     ]
    }
   ],
   "source": [
    "text = \"hello dude , i am somil jain \"\n",
    "print(sent_tokenize(text))\n"
   ]
  },
  {
   "cell_type": "code",
   "execution_count": 4,
   "metadata": {},
   "outputs": [
    {
     "name": "stdout",
     "output_type": "stream",
     "text": [
      "['hello', 'dude', ',', 'i', 'am', 'somil', 'jain']\n"
     ]
    }
   ],
   "source": [
    "print(word_tokenize(text))"
   ]
  },
  {
   "cell_type": "markdown",
   "metadata": {},
   "source": [
    "# Stop words are a set of commonly used words in any language. For example, in English, “the”, “is” and “and”, would easily qualify as stop words."
   ]
  },
  {
   "cell_type": "code",
   "execution_count": 7,
   "metadata": {},
   "outputs": [],
   "source": [
    "from nltk.corpus import stopwords\n",
    "from nltk.tokenize import word_tokenize\n",
    "text2 = \"lol you have no respect dummy.\"\n",
    "stop_words = set(stopwords.words(\"english\"))"
   ]
  },
  {
   "cell_type": "code",
   "execution_count": 8,
   "metadata": {},
   "outputs": [
    {
     "name": "stdout",
     "output_type": "stream",
     "text": [
      "{'his', 'where', 'very', 'them', 'or', 'wasn', 'more', 'as', 'i', 'am', 'him', 'which', 'only', 'who', \"you're\", 'there', 'an', 'and', 'don', 'had', 've', \"didn't\", 'through', 'ain', 'by', 'doesn', 'while', 'in', 'weren', \"hadn't\", 'too', 'down', 'for', 'each', 'their', 'is', \"it's\", 'didn', 'so', 's', 'herself', 'been', 'be', 'will', 'why', 'of', 'we', 'you', 'my', \"you'd\", 'y', 'that', 'such', 'when', 'being', 'd', 'shouldn', 'again', 'most', 'mustn', 'than', 'its', 'haven', 'do', 'aren', 'o', 't', \"she's\", 'between', \"shouldn't\", 'not', 'won', 'this', \"weren't\", \"hasn't\", \"mightn't\", 'having', 'once', 'with', 'hadn', \"needn't\", 'then', 'out', \"won't\", 'they', 'couldn', 'to', 'have', 'are', 'some', \"don't\", \"shan't\", 'hers', 'up', 'll', 'did', 'at', 'm', 'because', 'further', 'what', 'below', 'mightn', 'ourselves', 'all', 'himself', 'under', 'against', 'yourself', 'any', 'ma', \"should've\", 'nor', 'before', \"aren't\", 'both', 'now', 'but', 'how', 'me', \"isn't\", \"mustn't\", \"haven't\", \"that'll\", 'he', 'after', 'isn', 'same', 'she', 'own', 'needn', 'those', 'here', 'hasn', 'theirs', 'just', 'these', 'should', \"couldn't\", 'until', \"you'll\", 'was', 'over', 'few', \"wasn't\", 'themselves', 'myself', 'no', 'it', 'about', 'has', 'yourselves', 'were', 'on', 'wouldn', 'our', 'ours', \"you've\", 'the', 'if', 're', 'whom', 'does', \"doesn't\", 'during', 'doing', 'into', 'a', 'yours', 'can', \"wouldn't\", 'other', 'shan', 'from', 'her', 'your', 'itself', 'off', 'above'}\n"
     ]
    }
   ],
   "source": [
    "print(stop_words)"
   ]
  },
  {
   "cell_type": "code",
   "execution_count": 11,
   "metadata": {},
   "outputs": [
    {
     "name": "stdout",
     "output_type": "stream",
     "text": [
      "['lol', 'respect', 'dummy', '.']\n"
     ]
    }
   ],
   "source": [
    "words = word_tokenize(text2)\n",
    "filtered_sentence = [w for w in words if not w in stop_words]\n",
    "print(filtered_sentence)"
   ]
  },
  {
   "cell_type": "markdown",
   "metadata": {},
   "source": [
    "# Stemming is the process of reducing a word to its word stem that affixes to suffixes and prefixes or to the roots of words known as a lemma"
   ]
  },
  {
   "cell_type": "code",
   "execution_count": 17,
   "metadata": {},
   "outputs": [
    {
     "name": "stdout",
     "output_type": "stream",
     "text": [
      "stun\n",
      "stun\n",
      "stun\n"
     ]
    }
   ],
   "source": [
    "from nltk.stem import PorterStemmer\n",
    "from nltk.tokenize import word_tokenize\n",
    "\n",
    "ps = PorterStemmer()\n",
    "Nwords=[\"stun\",\"stunning\",\"stunned\"]\n",
    "for w in Nwords:\n",
    "    print(ps.stem(w))"
   ]
  },
  {
   "cell_type": "code",
   "execution_count": null,
   "metadata": {},
   "outputs": [],
   "source": []
  }
 ],
 "metadata": {
  "kernelspec": {
   "display_name": "Python 3",
   "language": "python",
   "name": "python3"
  },
  "language_info": {
   "codemirror_mode": {
    "name": "ipython",
    "version": 3
   },
   "file_extension": ".py",
   "mimetype": "text/x-python",
   "name": "python",
   "nbconvert_exporter": "python",
   "pygments_lexer": "ipython3",
   "version": "3.7.4"
  }
 },
 "nbformat": 4,
 "nbformat_minor": 2
}
